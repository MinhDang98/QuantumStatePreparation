{
 "cells": [
  {
   "cell_type": "code",
   "execution_count": 1,
   "id": "dd76a435",
   "metadata": {},
   "outputs": [],
   "source": [
    "import numpy as np\n",
    "import matplotlib.pyplot as plt\n",
    "import libs.utils as utils\n",
    "from libs.target_state import TargetState, TargetStateName, GeneralTargetState\n",
    "from libs.agent import QuantumnAgent\n",
    "from qiskit import transpile"
   ]
  },
  {
   "cell_type": "code",
   "execution_count": 2,
   "id": "01512cdc",
   "metadata": {},
   "outputs": [
    {
     "name": "stdout",
     "output_type": "stream",
     "text": [
      "Cleaning contents of './logs'...\n",
      "  Deleted directory: ./logs\\QSP_RL\n",
      "Finished cleaning './logs'.\n"
     ]
    }
   ],
   "source": [
    "utils.clean_log()"
   ]
  },
  {
   "cell_type": "code",
   "execution_count": 3,
   "id": "393ae719",
   "metadata": {},
   "outputs": [],
   "source": [
    "# general_target_state_list = [\n",
    "# \tGeneralTargetState(target_state_name=TargetStateName.GHZ_STATE, num_qubits=2),\n",
    "# \tGeneralTargetState(target_state_name=TargetStateName.UNIFORM_SUPERPOSITION, num_qubits=2),\n",
    "# \tGeneralTargetState(target_state_name=TargetStateName.GHZ_STATE, num_qubits=3),\n",
    "# \tGeneralTargetState(target_state_name=TargetStateName.UNIFORM_SUPERPOSITION, num_qubits=3),\n",
    "#  \tGeneralTargetState(target_state_name=TargetStateName.GHZ_STATE, num_qubits=4),\n",
    "# \tGeneralTargetState(target_state_name=TargetStateName.UNIFORM_SUPERPOSITION, num_qubits=4),\n",
    "#  \tGeneralTargetState(target_state_name=TargetStateName.GHZ_STATE, num_qubits=5),\n",
    "# \tGeneralTargetState(target_state_name=TargetStateName.UNIFORM_SUPERPOSITION, num_qubits=5)\n",
    "# ]\n",
    "\n",
    "# target_states_list = [\n",
    "#     # TargetState(target_state_name=TargetStateName.GHZ_STATE),\n",
    "#     # TargetState(target_state_name=TargetStateName.BELL_STATE),\n",
    "#     # TargetState(target_state_name=TargetStateName.BELL_STATE_PSI),\n",
    "#     # TargetState(target_state_name=TargetStateName.COMPUTATIONAL_BASIS_STATE),\n",
    "#     # TargetState(target_state_name=TargetStateName.UNIFORM_SUPERPOSITION)\n",
    "# ]\n",
    "\n",
    "# total_timesteps = 50000\n",
    "# eval_frequency = total_timesteps // 10\n",
    "# eval_episode = 50\n",
    "# agent = QuantumnAgent(general_target_state_list, \n",
    "# \t\t\t\t\t  total_timesteps=total_timesteps,\n",
    "#        \t\t\t\t  eval_frequency=eval_frequency,\n",
    "# \t\t\t\t\t  eval_episode=eval_episode,\n",
    "# \t\t\t\t\t  training_mode=True, \n",
    "# \t\t\t\t\t  verbose=1,\n",
    "#        \t\t\t\t  is_curriculum=True)"
   ]
  },
  {
   "cell_type": "code",
   "execution_count": 4,
   "id": "0965dc33",
   "metadata": {},
   "outputs": [
    {
     "name": "stdout",
     "output_type": "stream",
     "text": [
      "Agent initialize in testing mode.\n",
      "Loaded environment config from ./model/QSP_RL/env_config.json\n",
      "[Info] Loading trained model from ./model/QSP_RL/best_model.zip\n",
      "[End] GHZ_STATE circuit finished in 3 steps with fidelity 1.0000\n",
      "     ┌───┐          \n",
      "q_0: ┤ H ├──■────■──\n",
      "     └───┘  │  ┌─┴─┐\n",
      "q_1: ───────┼──┤ X ├\n",
      "          ┌─┴─┐└───┘\n",
      "q_2: ─────┤ X ├─────\n",
      "          └───┘     \n",
      "[Info] Loading trained model from ./model/QSP_RL/best_model.zip\n",
      "[End] BELL_STATE circuit finished in 2 steps with fidelity 1.0000\n",
      "     ┌───┐     \n",
      "q_0: ┤ H ├──■──\n",
      "     └───┘┌─┴─┐\n",
      "q_1: ─────┤ X ├\n",
      "          └───┘\n",
      "[Info] Loading trained model from ./model/QSP_RL/best_model.zip\n",
      "[End] BELL_STATE_PSI circuit finished in 5 steps with fidelity 0.0000\n",
      "     ┌───┐               \n",
      "q_0: ┤ H ├──■────■────■──\n",
      "     └───┘┌─┴─┐┌─┴─┐┌─┴─┐\n",
      "q_1: ─────┤ X ├┤ X ├┤ X ├\n",
      "          └───┘└───┘└───┘\n",
      "[Info] Loading trained model from ./model/QSP_RL/best_model.zip\n",
      "[End] COMPUTATIONAL_BASIS_STATE circuit finished in 3 steps with fidelity 0.0000\n",
      "     \n",
      "q_0: \n",
      "     \n",
      "q_1: \n",
      "     \n",
      "[Info] Loading trained model from ./model/QSP_RL/best_model.zip\n",
      "[End] UNIFORM_SUPERPOSITION circuit finished in 2 steps with fidelity 1.0000\n",
      "     ┌───┐\n",
      "q_0: ┤ H ├\n",
      "     ├───┤\n",
      "q_1: ┤ H ├\n",
      "     └───┘\n"
     ]
    }
   ],
   "source": [
    "target_states_list = [\n",
    "    TargetState(target_state_name=TargetStateName.GHZ_STATE),\n",
    "    TargetState(target_state_name=TargetStateName.BELL_STATE),\n",
    "    TargetState(target_state_name=TargetStateName.BELL_STATE_PSI),\n",
    "    TargetState(target_state_name=TargetStateName.COMPUTATIONAL_BASIS_STATE),\n",
    "    TargetState(target_state_name=TargetStateName.UNIFORM_SUPERPOSITION)\n",
    "]\n",
    "\n",
    "general_target_state_list = [\n",
    "\tGeneralTargetState(target_state_name=TargetStateName.GHZ_STATE, num_qubits=2),\n",
    "\tGeneralTargetState(target_state_name=TargetStateName.UNIFORM_SUPERPOSITION, num_qubits=2),\n",
    "\tGeneralTargetState(target_state_name=TargetStateName.GHZ_STATE, num_qubits=3),\n",
    "\tGeneralTargetState(target_state_name=TargetStateName.UNIFORM_SUPERPOSITION, num_qubits=3),\n",
    " \tGeneralTargetState(target_state_name=TargetStateName.GHZ_STATE, num_qubits=4),\n",
    "\tGeneralTargetState(target_state_name=TargetStateName.UNIFORM_SUPERPOSITION, num_qubits=4),\n",
    " \tGeneralTargetState(target_state_name=TargetStateName.GHZ_STATE, num_qubits=5),\n",
    "\tGeneralTargetState(target_state_name=TargetStateName.UNIFORM_SUPERPOSITION, num_qubits=5)\n",
    "]\n",
    "\n",
    "agent = QuantumnAgent(training_mode=False)\n",
    "for i in target_states_list:\n",
    "\tagent.build_circuit(i)\n"
   ]
  },
  {
   "cell_type": "code",
   "execution_count": 5,
   "id": "de6efdc3",
   "metadata": {},
   "outputs": [],
   "source": [
    "from qiskit_ibm_runtime.fake_provider import FakeManhattanV2\n",
    "\n",
    "def draw():\n",
    "\tbackend_fake = FakeManhattanV2()\n",
    "\tprint(\"\\nBackend Coupling Map (Example):\")\n",
    "\tprint(backend_fake.coupling_map)\n",
    "\n",
    "\ttranspiled_qc = transpile(qc, backend_fake, optimization_level=3)\n",
    "\tprint(\"\\nTranspiled Circuit (mapped to physical qubits):\")\n",
    "\tprint(transpiled_qc.draw(output='text', idle_wires=False))"
   ]
  }
 ],
 "metadata": {
  "kernelspec": {
   "display_name": "qiskit",
   "language": "python",
   "name": "python3"
  },
  "language_info": {
   "codemirror_mode": {
    "name": "ipython",
    "version": 3
   },
   "file_extension": ".py",
   "mimetype": "text/x-python",
   "name": "python",
   "nbconvert_exporter": "python",
   "pygments_lexer": "ipython3",
   "version": "3.12.11"
  }
 },
 "nbformat": 4,
 "nbformat_minor": 5
}
