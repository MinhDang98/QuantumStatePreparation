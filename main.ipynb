{
 "cells": [
  {
   "cell_type": "code",
   "execution_count": 4,
   "id": "dd76a435",
   "metadata": {},
   "outputs": [],
   "source": [
    "import numpy as np\n",
    "import matplotlib.pyplot as plt\n",
    "import libs.utils as utils\n",
    "from libs.quantum_state_preparation import QuantumStatePreparation, TargetState, TargetStateName\n",
    "from libs.agent import QuantumnAgent\n",
    "from qiskit.quantum_info import Statevector"
   ]
  },
  {
   "cell_type": "code",
   "execution_count": 5,
   "id": "01512cdc",
   "metadata": {},
   "outputs": [
    {
     "name": "stdout",
     "output_type": "stream",
     "text": [
      "Cleaning contents of './logs'...\n",
      "  Deleted directory: ./logs\\DQN_Bell_State\n",
      "Finished cleaning './logs'.\n"
     ]
    }
   ],
   "source": [
    "utils.clean_log()"
   ]
  },
  {
   "cell_type": "code",
   "execution_count": 6,
   "id": "393ae719",
   "metadata": {},
   "outputs": [
    {
     "name": "stdout",
     "output_type": "stream",
     "text": [
      "Using device: cpu\n"
     ]
    },
    {
     "data": {
      "application/vnd.jupyter.widget-view+json": {
       "model_id": "0962abe5d4774365b97541c39ba71c32",
       "version_major": 2,
       "version_minor": 0
      },
      "text/plain": [
       "Output()"
      ]
     },
     "metadata": {},
     "output_type": "display_data"
    },
    {
     "name": "stdout",
     "output_type": "stream",
     "text": [
      "Starting DQN training for 8000 timesteps...\n"
     ]
    },
    {
     "data": {
      "text/html": [
       "<pre style=\"white-space:pre;overflow-x:auto;line-height:normal;font-family:Menlo,'DejaVu Sans Mono',consolas,'Courier New',monospace\"></pre>\n"
      ],
      "text/plain": []
     },
     "metadata": {},
     "output_type": "display_data"
    },
    {
     "name": "stdout",
     "output_type": "stream",
     "text": [
      "Training finished.\n",
      "Final model saved to ./logs/DQN_Bell_State\\DQN_Bell_State_Model\n"
     ]
    }
   ],
   "source": [
    "target_state = TargetState(targetStateName=TargetStateName.BELL_STATE)\n",
    "agent = QuantumnAgent(target_state, \n",
    "\t\t\t\t\t  total_timesteps=8000, eval_frequency=0.1, \n",
    "\t\t\t\t\t  eval_episode=0.1, verbose=0)"
   ]
  },
  {
   "cell_type": "code",
   "execution_count": 7,
   "id": "0965dc33",
   "metadata": {},
   "outputs": [
    {
     "name": "stdout",
     "output_type": "stream",
     "text": [
      "Circuit successfully built in 2 steps with fidelity: 1.0000\n",
      "     ┌───┐     \n",
      "q_0: ┤ H ├──■──\n",
      "     └───┘┌─┴─┐\n",
      "q_1: ─────┤ X ├\n",
      "          └───┘\n"
     ]
    }
   ],
   "source": [
    "qc = agent.build_circuit()\n",
    "if (qc):\n",
    "\tprint(qc.draw())\n"
   ]
  }
 ],
 "metadata": {
  "kernelspec": {
   "display_name": "qiskit",
   "language": "python",
   "name": "python3"
  },
  "language_info": {
   "codemirror_mode": {
    "name": "ipython",
    "version": 3
   },
   "file_extension": ".py",
   "mimetype": "text/x-python",
   "name": "python",
   "nbconvert_exporter": "python",
   "pygments_lexer": "ipython3",
   "version": "3.12.11"
  }
 },
 "nbformat": 4,
 "nbformat_minor": 5
}
