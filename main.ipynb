{
 "cells": [
  {
   "cell_type": "code",
   "execution_count": 13,
   "id": "dd76a435",
   "metadata": {},
   "outputs": [],
   "source": [
    "import numpy as np\n",
    "import matplotlib.pyplot as plt\n",
    "import libs.utils as utils\n",
    "from libs.quantum_state_preparation import QuantumStatePreparation, TargetState, TargetStateName\n",
    "from libs.agent import QuantumnAgent\n",
    "from qiskit import QuantumCircuit, transpile"
   ]
  },
  {
   "cell_type": "code",
   "execution_count": 14,
   "id": "01512cdc",
   "metadata": {},
   "outputs": [
    {
     "name": "stdout",
     "output_type": "stream",
     "text": [
      "Cleaning contents of './logs'...\n",
      "  Deleted directory: ./logs\\DQN_Bell_State\n",
      "Finished cleaning './logs'.\n"
     ]
    }
   ],
   "source": [
    "utils.clean_log()"
   ]
  },
  {
   "cell_type": "code",
   "execution_count": 15,
   "id": "393ae719",
   "metadata": {},
   "outputs": [
    {
     "data": {
      "application/vnd.jupyter.widget-view+json": {
       "model_id": "531075005ad64c8cb12b3d648e5a5e68",
       "version_major": 2,
       "version_minor": 0
      },
      "text/plain": [
       "Output()"
      ]
     },
     "metadata": {},
     "output_type": "display_data"
    },
    {
     "name": "stdout",
     "output_type": "stream",
     "text": [
      "Using device: cpu\n",
      "Starting DQN training for 8000 timesteps...\n"
     ]
    },
    {
     "data": {
      "text/html": [
       "<pre style=\"white-space:pre;overflow-x:auto;line-height:normal;font-family:Menlo,'DejaVu Sans Mono',consolas,'Courier New',monospace\"></pre>\n"
      ],
      "text/plain": []
     },
     "metadata": {},
     "output_type": "display_data"
    },
    {
     "name": "stdout",
     "output_type": "stream",
     "text": [
      "Training finished.\n",
      "Final model saved to ./logs/DQN_Bell_State\\DQN_Bell_State_Model\n"
     ]
    }
   ],
   "source": [
    "target_state = TargetState(targetStateName=TargetStateName.GHZ_STATE)\n",
    "agent = QuantumnAgent(target_state, \n",
    "\t\t\t\t\t  total_timesteps=8000, eval_frequency=0.1, \n",
    "\t\t\t\t\t  eval_episode=0.1, verbose=0)"
   ]
  },
  {
   "cell_type": "code",
   "execution_count": 16,
   "id": "0965dc33",
   "metadata": {},
   "outputs": [
    {
     "name": "stdout",
     "output_type": "stream",
     "text": [
      "Circuit successfully built in 3 steps with fidelity: 1.0000\n",
      "          ┌───┐     \n",
      "q_0: ─────┤ X ├─────\n",
      "          └─┬─┘┌───┐\n",
      "q_1: ───────┼──┤ X ├\n",
      "     ┌───┐  │  └─┬─┘\n",
      "q_2: ┤ H ├──■────■──\n",
      "     └───┘          \n"
     ]
    }
   ],
   "source": [
    "qc = agent.build_circuit()\n",
    "if (qc):\n",
    "\tprint(qc.draw())\n"
   ]
  },
  {
   "cell_type": "code",
   "execution_count": 17,
   "id": "de6efdc3",
   "metadata": {},
   "outputs": [
    {
     "name": "stdout",
     "output_type": "stream",
     "text": [
      "\n",
      "Backend Coupling Map (Example):\n",
      "[[0, 1], [0, 10], [1, 0], [1, 2], [2, 1], [2, 3], [3, 2], [3, 4], [4, 3], [4, 5], [4, 11], [5, 4], [5, 6], [6, 5], [6, 7], [7, 6], [7, 8], [8, 7], [8, 9], [8, 12], [9, 8], [10, 0], [10, 13], [11, 4], [11, 17], [12, 8], [12, 21], [13, 10], [13, 14], [14, 13], [14, 15], [15, 14], [15, 16], [15, 24], [16, 15], [16, 17], [17, 11], [17, 16], [17, 18], [18, 17], [18, 19], [19, 18], [19, 20], [19, 25], [20, 19], [20, 21], [21, 12], [21, 20], [21, 22], [22, 21], [22, 23], [23, 22], [23, 26], [24, 15], [24, 29], [25, 19], [25, 33], [26, 23], [26, 37], [27, 28], [27, 38], [28, 27], [28, 29], [29, 24], [29, 28], [29, 30], [30, 29], [30, 31], [31, 30], [31, 32], [31, 39], [32, 31], [32, 33], [33, 25], [33, 32], [33, 34], [34, 33], [34, 35], [35, 34], [35, 36], [35, 40], [36, 35], [36, 37], [37, 26], [37, 36], [38, 27], [38, 41], [39, 31], [39, 45], [40, 35], [40, 49], [41, 38], [41, 42], [42, 41], [42, 43], [43, 42], [43, 44], [43, 52], [44, 43], [44, 45], [45, 39], [45, 44], [45, 46], [46, 45], [46, 47], [47, 46], [47, 48], [47, 53], [48, 47], [48, 49], [49, 40], [49, 48], [49, 50], [50, 49], [50, 51], [51, 50], [51, 54], [52, 43], [52, 56], [53, 47], [53, 60], [54, 51], [54, 64], [55, 56], [56, 52], [56, 55], [56, 57], [57, 56], [57, 58], [58, 57], [58, 59], [59, 58], [59, 60], [60, 53], [60, 59], [60, 61], [61, 60], [61, 62], [62, 61], [62, 63], [63, 62], [63, 64], [64, 54], [64, 63]]\n",
      "\n",
      "Transpiled Circuit (mapped to physical qubits):\n",
      "global phase: π/4\n",
      "                                      ┌───┐     \n",
      "q_0 -> 47 ────────────────────────────┤ X ├─────\n",
      "          ┌─────────┐┌────┐┌─────────┐└─┬─┘     \n",
      "q_2 -> 53 ┤ Rz(π/2) ├┤ √X ├┤ Rz(π/2) ├──■────■──\n",
      "          └─────────┘└────┘└─────────┘     ┌─┴─┐\n",
      "q_1 -> 60 ─────────────────────────────────┤ X ├\n",
      "                                           └───┘\n"
     ]
    }
   ],
   "source": [
    "from qiskit_ibm_runtime.fake_provider import FakeManhattanV2\n",
    "\n",
    "backend_fake = FakeManhattanV2()\n",
    "print(\"\\nBackend Coupling Map (Example):\")\n",
    "print(backend_fake.coupling_map)\n",
    "\n",
    "transpiled_qc = transpile(qc, backend_fake, optimization_level=3)\n",
    "print(\"\\nTranspiled Circuit (mapped to physical qubits):\")\n",
    "print(transpiled_qc.draw(output='text', idle_wires=False))"
   ]
  }
 ],
 "metadata": {
  "kernelspec": {
   "display_name": "qiskit",
   "language": "python",
   "name": "python3"
  },
  "language_info": {
   "codemirror_mode": {
    "name": "ipython",
    "version": 3
   },
   "file_extension": ".py",
   "mimetype": "text/x-python",
   "name": "python",
   "nbconvert_exporter": "python",
   "pygments_lexer": "ipython3",
   "version": "3.12.11"
  }
 },
 "nbformat": 4,
 "nbformat_minor": 5
}
