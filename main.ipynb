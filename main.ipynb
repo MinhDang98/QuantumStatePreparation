{
 "cells": [
  {
   "cell_type": "code",
   "execution_count": null,
   "id": "dd76a435",
   "metadata": {},
   "outputs": [],
   "source": [
    "import numpy as np\n",
    "import matplotlib.pyplot as plt\n",
    "from libs.quantum_state_preparation import QuantumStatePreparation, TargetState, TargetStateName\n",
    "from libs.agent import QuantumnAgent\n",
    "from qiskit.quantum_info import Statevector"
   ]
  },
  {
   "cell_type": "code",
   "execution_count": null,
   "id": "db7ca512",
   "metadata": {},
   "outputs": [],
   "source": [
    "def test_gym():\n",
    "    env = QuantumStatePreparation(num_qubits=2, max_gates=5)\n",
    "    print(f\"Environment instantiated. Max gates: {env.max_gates}, Num qubits: {env.num_qubits}\")\n",
    "    \n",
    "    obs, info = env.reset()\n",
    "    print(\"\\n--- After Reset ---\")\n",
    "    env.obs_to_string(obs)\n",
    "    print(f\"Initial Fidelity: {info['fidelity']:.4f}\")\n",
    "    print(f\"Initial Gates Applied: {info['gates_count']}\")\n",
    "    \n",
    "    expected_initial_fidelity = np.abs(env.state_vector.inner(Statevector.from_int(0, 2**env.num_qubits)))**2\n",
    "    print(f\"Expected Initial Fidelity: {expected_initial_fidelity:.4f}\")\n",
    "    \n",
    "    print(\"\\n--- Performing Steps ---\")\n",
    "    done = False\n",
    "    current_step = 0\n",
    "    while not done and current_step < env.max_gates + 3: # Add a few extra step to see if we will get truncated\n",
    "        # This is the optimal sequence for Bell state from |00>\n",
    "        action_list = [0, 2]\n",
    "        \n",
    "        if current_step < len(action_list):\n",
    "            action = action_list[current_step]\n",
    "        else:\n",
    "            action = env.action_space.sample()\n",
    "        \n",
    "        print(f\"\\nStep {current_step + 1}: Taking action {action}\")\n",
    "        obs, reward, terminated, truncated, info = env.step(action)\n",
    "        done = terminated or truncated\n",
    "        \n",
    "        env.obs_to_string(obs)\n",
    "        print(f\"\\tFidelity: {info['fidelity']:.4f}\")\n",
    "        print(f\"\\tGates Applied: {info['gates_count']}\")\n",
    "        print(f\"\\tReward: {reward:.2f}\")\n",
    "        print(f\"\\tTerminated: {terminated}, Truncated: {truncated}\")\n",
    "\n",
    "        current_step += 1\n",
    "        "
   ]
  },
  {
   "cell_type": "code",
   "execution_count": null,
   "id": "393ae719",
   "metadata": {},
   "outputs": [],
   "source": [
    "target_state = TargetState(targetStateName=TargetStateName.BELL_STATE)\n",
    "agent = QuantumnAgent(target_state, \n",
    "\t\t\t\t\t  total_timesteps=8000, eval_frequency=0.1, \n",
    "\t\t\t\t\t  eval_episode=0.1, verbose=0)"
   ]
  },
  {
   "cell_type": "code",
   "execution_count": null,
   "id": "0965dc33",
   "metadata": {},
   "outputs": [],
   "source": [
    "qc = agent.build_circuit()\n",
    "if (qc):\n",
    "\tprint(qc.draw())\n"
   ]
  }
 ],
 "metadata": {
  "kernelspec": {
   "display_name": "qiskit",
   "language": "python",
   "name": "python3"
  },
  "language_info": {
   "codemirror_mode": {
    "name": "ipython",
    "version": 3
   },
   "file_extension": ".py",
   "mimetype": "text/x-python",
   "name": "python",
   "nbconvert_exporter": "python",
   "pygments_lexer": "ipython3",
   "version": "3.12.9"
  }
 },
 "nbformat": 4,
 "nbformat_minor": 5
}
