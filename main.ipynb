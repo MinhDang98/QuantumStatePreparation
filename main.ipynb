{
 "cells": [
  {
   "cell_type": "code",
   "execution_count": 1,
   "id": "dd76a435",
   "metadata": {},
   "outputs": [],
   "source": [
    "import numpy as np\n",
    "import matplotlib.pyplot as plt\n",
    "import libs.utils as utils\n",
    "from libs.quantum_state_preparation import TargetState, TargetStateName, GeneralTargetState\n",
    "from libs.agent import QuantumnAgent\n",
    "from qiskit import transpile"
   ]
  },
  {
   "cell_type": "code",
   "execution_count": 2,
   "id": "01512cdc",
   "metadata": {},
   "outputs": [
    {
     "name": "stdout",
     "output_type": "stream",
     "text": [
      "Cleaning contents of './logs'...\n",
      "  Deleted directory: ./logs\\QSP_RL\n",
      "Finished cleaning './logs'.\n"
     ]
    }
   ],
   "source": [
    "utils.clean_log()"
   ]
  },
  {
   "cell_type": "code",
   "execution_count": null,
   "id": "393ae719",
   "metadata": {},
   "outputs": [
    {
     "name": "stdout",
     "output_type": "stream",
     "text": [
      "Agent initialize in traning mode.\n",
      "Using device: cpu\n",
      "Saved environment config to ./model/QSP_RL/env_config.json\n"
     ]
    },
    {
     "data": {
      "application/vnd.jupyter.widget-view+json": {
       "model_id": "d68454b9d3f04267828aeaa2ec44b5e5",
       "version_major": 2,
       "version_minor": 0
      },
      "text/plain": [
       "Output()"
      ]
     },
     "metadata": {},
     "output_type": "display_data"
    },
    {
     "name": "stdout",
     "output_type": "stream",
     "text": [
      "Starting DQN training for 3000000 timesteps...\n"
     ]
    },
    {
     "data": {
      "text/html": [
       "<pre style=\"white-space:pre;overflow-x:auto;line-height:normal;font-family:Menlo,'DejaVu Sans Mono',consolas,'Courier New',monospace\">Eval num_timesteps=750000, episode_reward=-9.50 +/- 0.11\n",
       "</pre>\n"
      ],
      "text/plain": [
       "Eval num_timesteps=750000, episode_reward=-9.50 +/- 0.11\n"
      ]
     },
     "metadata": {},
     "output_type": "display_data"
    },
    {
     "data": {
      "text/html": [
       "<pre style=\"white-space:pre;overflow-x:auto;line-height:normal;font-family:Menlo,'DejaVu Sans Mono',consolas,'Courier New',monospace\">Episode length: 10.00 +/- 0.00\n",
       "</pre>\n"
      ],
      "text/plain": [
       "Episode length: 10.00 +/- 0.00\n"
      ]
     },
     "metadata": {},
     "output_type": "display_data"
    },
    {
     "data": {
      "text/html": [
       "<pre style=\"white-space:pre;overflow-x:auto;line-height:normal;font-family:Menlo,'DejaVu Sans Mono',consolas,'Courier New',monospace\">New best mean reward!\n",
       "</pre>\n"
      ],
      "text/plain": [
       "New best mean reward!\n"
      ]
     },
     "metadata": {},
     "output_type": "display_data"
    },
    {
     "data": {
      "text/html": [
       "<pre style=\"white-space:pre;overflow-x:auto;line-height:normal;font-family:Menlo,'DejaVu Sans Mono',consolas,'Courier New',monospace\">Eval num_timesteps=1500000, episode_reward=-8.24 +/- 1.16\n",
       "</pre>\n"
      ],
      "text/plain": [
       "Eval num_timesteps=1500000, episode_reward=-8.24 +/- 1.16\n"
      ]
     },
     "metadata": {},
     "output_type": "display_data"
    },
    {
     "data": {
      "text/html": [
       "<pre style=\"white-space:pre;overflow-x:auto;line-height:normal;font-family:Menlo,'DejaVu Sans Mono',consolas,'Courier New',monospace\">Episode length: 10.00 +/- 0.00\n",
       "</pre>\n"
      ],
      "text/plain": [
       "Episode length: 10.00 +/- 0.00\n"
      ]
     },
     "metadata": {},
     "output_type": "display_data"
    },
    {
     "data": {
      "text/html": [
       "<pre style=\"white-space:pre;overflow-x:auto;line-height:normal;font-family:Menlo,'DejaVu Sans Mono',consolas,'Courier New',monospace\">New best mean reward!\n",
       "</pre>\n"
      ],
      "text/plain": [
       "New best mean reward!\n"
      ]
     },
     "metadata": {},
     "output_type": "display_data"
    },
    {
     "data": {
      "text/html": [
       "<pre style=\"white-space:pre;overflow-x:auto;line-height:normal;font-family:Menlo,'DejaVu Sans Mono',consolas,'Courier New',monospace\">Eval num_timesteps=2250000, episode_reward=-10.68 +/- 1.16\n",
       "</pre>\n"
      ],
      "text/plain": [
       "Eval num_timesteps=2250000, episode_reward=-10.68 +/- 1.16\n"
      ]
     },
     "metadata": {},
     "output_type": "display_data"
    },
    {
     "data": {
      "text/html": [
       "<pre style=\"white-space:pre;overflow-x:auto;line-height:normal;font-family:Menlo,'DejaVu Sans Mono',consolas,'Courier New',monospace\">Episode length: 10.00 +/- 0.00\n",
       "</pre>\n"
      ],
      "text/plain": [
       "Episode length: 10.00 +/- 0.00\n"
      ]
     },
     "metadata": {},
     "output_type": "display_data"
    },
    {
     "data": {
      "text/html": [
       "<pre style=\"white-space:pre;overflow-x:auto;line-height:normal;font-family:Menlo,'DejaVu Sans Mono',consolas,'Courier New',monospace\">Eval num_timesteps=3000000, episode_reward=-9.50 +/- 1.59\n",
       "</pre>\n"
      ],
      "text/plain": [
       "Eval num_timesteps=3000000, episode_reward=-9.50 +/- 1.59\n"
      ]
     },
     "metadata": {},
     "output_type": "display_data"
    },
    {
     "data": {
      "text/html": [
       "<pre style=\"white-space:pre;overflow-x:auto;line-height:normal;font-family:Menlo,'DejaVu Sans Mono',consolas,'Courier New',monospace\">Episode length: 10.00 +/- 0.00\n",
       "</pre>\n"
      ],
      "text/plain": [
       "Episode length: 10.00 +/- 0.00\n"
      ]
     },
     "metadata": {},
     "output_type": "display_data"
    },
    {
     "data": {
      "text/html": [
       "<pre style=\"white-space:pre;overflow-x:auto;line-height:normal;font-family:Menlo,'DejaVu Sans Mono',consolas,'Courier New',monospace\"></pre>\n"
      ],
      "text/plain": []
     },
     "metadata": {},
     "output_type": "display_data"
    },
    {
     "name": "stdout",
     "output_type": "stream",
     "text": [
      "Training finished.\n",
      "Final model saved to ./model/QSP_RL/\n"
     ]
    }
   ],
   "source": [
    "general_target_state_list = [\n",
    "\tGeneralTargetState(target_state_name=TargetStateName.GHZ_STATE, num_qubits=5),\n",
    "    GeneralTargetState(target_state_name=TargetStateName.UNIFORM_SUPERPOSITION, num_qubits=5)\n",
    "]\n",
    "\n",
    "total_timesteps = 3000000\n",
    "eval_frequency = total_timesteps // 6\n",
    "eval_episode = 100\n",
    "agent = QuantumnAgent(general_target_state_list, \n",
    "\t\t\t\t\t  total_timesteps=total_timesteps,\n",
    "       \t\t\t\t  eval_frequency=eval_frequency,\n",
    "\t\t\t\t\t  eval_episode=eval_episode,\n",
    "\t\t\t\t\t  training_mode=True, \n",
    "\t\t\t\t\t  verbose=0)"
   ]
  },
  {
   "cell_type": "code",
   "execution_count": 6,
   "id": "0965dc33",
   "metadata": {},
   "outputs": [
    {
     "name": "stdout",
     "output_type": "stream",
     "text": [
      "Agent initialize in testing mode.\n",
      "Loaded environment config from ./model/QSP_RL/env_config.json\n",
      "Circuit building truncated after 1 steps (max gates reached). Fidelity: 0.5000\n",
      "Failed for GHZ_STATE\n",
      "Circuit building truncated after 1 steps (max gates reached). Fidelity: 0.2500\n",
      "Failed for UNIFORM_SUPERPOSITION\n"
     ]
    }
   ],
   "source": [
    "target_states_list = [\n",
    "    TargetState(target_state_name=TargetStateName.GHZ_STATE),\n",
    "    # TargetState(target_state_name=TargetStateName.BELL_STATE),\n",
    "    # TargetState(target_state_name=TargetStateName.BELL_STATE_PSI),\n",
    "    # TargetState(target_state_name=TargetStateName.COMPUTATIONAL_BASIS_STATE),\n",
    "    TargetState(target_state_name=TargetStateName.UNIFORM_SUPERPOSITION)\n",
    "]\n",
    "\n",
    "agent = QuantumnAgent(training_mode=False)\n",
    "for i in target_states_list:\n",
    "\tqc = agent.build_circuit(i)\n",
    "\tif (qc):\n",
    "\t\tprint(qc.draw())\n",
    "\telse:\n",
    "\t\tprint(f\"Failed for {i.to_string()}\")\n"
   ]
  },
  {
   "cell_type": "code",
   "execution_count": null,
   "id": "de6efdc3",
   "metadata": {},
   "outputs": [],
   "source": [
    "from qiskit_ibm_runtime.fake_provider import FakeManhattanV2\n",
    "\n",
    "backend_fake = FakeManhattanV2()\n",
    "print(\"\\nBackend Coupling Map (Example):\")\n",
    "print(backend_fake.coupling_map)\n",
    "\n",
    "transpiled_qc = transpile(qc, backend_fake, optimization_level=3)\n",
    "print(\"\\nTranspiled Circuit (mapped to physical qubits):\")\n",
    "print(transpiled_qc.draw(output='text', idle_wires=False))"
   ]
  }
 ],
 "metadata": {
  "kernelspec": {
   "display_name": "qiskit",
   "language": "python",
   "name": "python3"
  },
  "language_info": {
   "codemirror_mode": {
    "name": "ipython",
    "version": 3
   },
   "file_extension": ".py",
   "mimetype": "text/x-python",
   "name": "python",
   "nbconvert_exporter": "python",
   "pygments_lexer": "ipython3",
   "version": "3.12.11"
  }
 },
 "nbformat": 4,
 "nbformat_minor": 5
}
